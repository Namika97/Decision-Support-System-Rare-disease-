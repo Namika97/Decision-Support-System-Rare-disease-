{
 "cells": [
  {
   "cell_type": "code",
   "execution_count": 124,
   "metadata": {},
   "outputs": [],
   "source": [
    "#import libraries \n",
    "from matplotlib import pyplot as plt\n",
    "from sklearn import datasets\n",
    "from sklearn.tree import DecisionTreeClassifier \n",
    "from sklearn import tree\n",
    "import pandas as pd\n",
    "from sklearn.model_selection import train_test_split, GridSearchCV\n",
    "from scipy.stats import chi2_contingency\n",
    "from sklearn.metrics import confusion_matrix\n",
    "from sklearn.ensemble import RandomForestClassifier"
   ]
  },
  {
   "cell_type": "code",
   "execution_count": 125,
   "metadata": {},
   "outputs": [
    {
     "data": {
      "text/html": [
       "<div>\n",
       "<style scoped>\n",
       "    .dataframe tbody tr th:only-of-type {\n",
       "        vertical-align: middle;\n",
       "    }\n",
       "\n",
       "    .dataframe tbody tr th {\n",
       "        vertical-align: top;\n",
       "    }\n",
       "\n",
       "    .dataframe thead th {\n",
       "        text-align: right;\n",
       "    }\n",
       "</style>\n",
       "<table border=\"1\" class=\"dataframe\">\n",
       "  <thead>\n",
       "    <tr style=\"text-align: right;\">\n",
       "      <th></th>\n",
       "      <th>Patient</th>\n",
       "      <th>Final Category</th>\n",
       "      <th>Fatigue</th>\n",
       "      <th>Weakness</th>\n",
       "      <th>Depression</th>\n",
       "      <th>Anxiety</th>\n",
       "      <th>Dry Skin</th>\n",
       "      <th>Spasms</th>\n",
       "      <th>Tingling</th>\n",
       "      <th>Headaches</th>\n",
       "      <th>Cramps</th>\n",
       "      <th>Number of Symptoms</th>\n",
       "    </tr>\n",
       "  </thead>\n",
       "  <tbody>\n",
       "    <tr>\n",
       "      <th>0</th>\n",
       "      <td>1</td>\n",
       "      <td>Mild</td>\n",
       "      <td>0</td>\n",
       "      <td>0</td>\n",
       "      <td>1</td>\n",
       "      <td>0</td>\n",
       "      <td>0</td>\n",
       "      <td>0</td>\n",
       "      <td>0</td>\n",
       "      <td>0</td>\n",
       "      <td>0</td>\n",
       "      <td>1</td>\n",
       "    </tr>\n",
       "    <tr>\n",
       "      <th>1</th>\n",
       "      <td>2</td>\n",
       "      <td>Mild</td>\n",
       "      <td>0</td>\n",
       "      <td>0</td>\n",
       "      <td>0</td>\n",
       "      <td>0</td>\n",
       "      <td>0</td>\n",
       "      <td>0</td>\n",
       "      <td>1</td>\n",
       "      <td>1</td>\n",
       "      <td>0</td>\n",
       "      <td>2</td>\n",
       "    </tr>\n",
       "    <tr>\n",
       "      <th>2</th>\n",
       "      <td>3</td>\n",
       "      <td>Mild</td>\n",
       "      <td>1</td>\n",
       "      <td>0</td>\n",
       "      <td>0</td>\n",
       "      <td>0</td>\n",
       "      <td>1</td>\n",
       "      <td>0</td>\n",
       "      <td>1</td>\n",
       "      <td>1</td>\n",
       "      <td>0</td>\n",
       "      <td>4</td>\n",
       "    </tr>\n",
       "    <tr>\n",
       "      <th>3</th>\n",
       "      <td>4</td>\n",
       "      <td>Mild</td>\n",
       "      <td>0</td>\n",
       "      <td>0</td>\n",
       "      <td>0</td>\n",
       "      <td>0</td>\n",
       "      <td>0</td>\n",
       "      <td>0</td>\n",
       "      <td>0</td>\n",
       "      <td>0</td>\n",
       "      <td>0</td>\n",
       "      <td>0</td>\n",
       "    </tr>\n",
       "    <tr>\n",
       "      <th>4</th>\n",
       "      <td>5</td>\n",
       "      <td>Mild</td>\n",
       "      <td>0</td>\n",
       "      <td>0</td>\n",
       "      <td>0</td>\n",
       "      <td>0</td>\n",
       "      <td>0</td>\n",
       "      <td>0</td>\n",
       "      <td>1</td>\n",
       "      <td>0</td>\n",
       "      <td>0</td>\n",
       "      <td>1</td>\n",
       "    </tr>\n",
       "  </tbody>\n",
       "</table>\n",
       "</div>"
      ],
      "text/plain": [
       "   Patient Final Category  Fatigue  Weakness  Depression   Anxiety  Dry Skin  \\\n",
       "0        1           Mild        0         0            1        0         0   \n",
       "1        2           Mild        0         0            0        0         0   \n",
       "2        3           Mild        1         0            0        0         1   \n",
       "3        4           Mild        0         0            0        0         0   \n",
       "4        5           Mild        0         0            0        0         0   \n",
       "\n",
       "   Spasms  Tingling  Headaches  Cramps  Number of Symptoms  \n",
       "0       0         0          0       0                   1  \n",
       "1       0         1          1       0                   2  \n",
       "2       0         1          1       0                   4  \n",
       "3       0         0          0       0                   0  \n",
       "4       0         1          0       0                   1  "
      ]
     },
     "execution_count": 125,
     "metadata": {},
     "output_type": "execute_result"
    }
   ],
   "source": [
    "#read data into a dataframe\n",
    "data = pd.read_csv('MildModerateSevereData_Final.csv')\n",
    "#looking at the first five rows of the dataset\n",
    "data.head()\n",
    "#we see that there are patients given by patient id, the final category putting them in mild, moderate and severe categories\n",
    "#the feature variables: fatigue, weakness, depression, anxiety, dry skin, spasms, tingling, headaches, cramps are \n",
    "#all categorical and the last feature variable number of symptoms is a simple sum of these categorical variables "
   ]
  },
  {
   "cell_type": "code",
   "execution_count": 126,
   "metadata": {},
   "outputs": [
    {
     "data": {
      "text/plain": [
       "Patient               0\n",
       "Final Category        0\n",
       "Fatigue               0\n",
       "Weakness              0\n",
       "Depression            0\n",
       "Anxiety               0\n",
       "Dry Skin              0\n",
       "Spasms                0\n",
       "Tingling              0\n",
       "Headaches             0\n",
       "Cramps                0\n",
       "Number of Symptoms    0\n",
       "dtype: int64"
      ]
     },
     "execution_count": 126,
     "metadata": {},
     "output_type": "execute_result"
    }
   ],
   "source": [
    "#now that we have looked at the features, let's see if there are any missing values\n",
    "data.isnull().sum()\n",
    "#we see that there are no missing values - so, we are good to go from that perspective - let's\n",
    "#look at the feature space"
   ]
  },
  {
   "cell_type": "code",
   "execution_count": 173,
   "metadata": {},
   "outputs": [
    {
     "data": {
      "text/plain": [
       "<AxesSubplot:>"
      ]
     },
     "execution_count": 173,
     "metadata": {},
     "output_type": "execute_result"
    },
    {
     "data": {
      "image/png": "[encoded data removed]",
      "text/plain": [
       "<Figure size 432x288 with 1 Axes>"
      ]
     },
     "metadata": {
      "needs_background": "light"
     },
     "output_type": "display_data"
    }
   ],
   "source": [
    "#Plot1: Seeing the number of cases for mild, moderate and severe\n",
    "data['Final Category'].value_counts().plot(kind='bar')\n",
    "#We see that the dataset is balanced such that there are 100 observations for each value of the\n",
    "#the target variable ie., mild, moderate and severe"
   ]
  },
  {
   "cell_type": "code",
   "execution_count": 175,
   "metadata": {},
   "outputs": [
    {
     "data": {
      "text/plain": [
       "<AxesSubplot:xlabel='Final Category,Fatigue'>"
      ]
     },
     "execution_count": 175,
     "metadata": {},
     "output_type": "execute_result"
    },
    {
     "data": {
      "image/png": "[encoded data removed]",
      "text/plain": [
       "<Figure size 432x288 with 1 Axes>"
      ]
     },
     "metadata": {
      "needs_background": "light"
     },
     "output_type": "display_data"
    }
   ],
   "source": [
    "#Plot2: Seeing the number of cases grouped by target variable corresponding to Fatigue\n",
    "data.groupby('Final Category')['Fatigue'].value_counts().plot(kind='bar')\n",
    "#we see that patients classified as mild, mostly are not fatigued while the opposite is true\n",
    "#for moderate and severe classified patients"
   ]
  },
  {
   "cell_type": "code",
   "execution_count": 177,
   "metadata": {},
   "outputs": [],
   "source": [
    "#Plot3: Seeing the number of cases grouped by target variable corresponding to Weakness\n",
    "#WE EXPECT TO SEE SIMILAR BEHAVIOR FOR WEAKNESS, UNCOMMENT TO VIEW THE RESULTS\n",
    "#data.groupby('Final Category')['Weakness'].value_counts().plot(kind='bar')\n",
    "#we see that patients classified as mild, mostly are not Wwek while the opposite is true\n",
    "#for moderate and severe classified patients"
   ]
  },
  {
   "cell_type": "code",
   "execution_count": 179,
   "metadata": {},
   "outputs": [
    {
     "data": {
      "text/plain": [
       "<AxesSubplot:xlabel='Final Category,Depression '>"
      ]
     },
     "execution_count": 179,
     "metadata": {},
     "output_type": "execute_result"
    },
    {
     "data": {
      "image/png": "[encoded data removed]",
      "text/plain": [
       "<Figure size 432x288 with 1 Axes>"
      ]
     },
     "metadata": {
      "needs_background": "light"
     },
     "output_type": "display_data"
    }
   ],
   "source": [
    "#Plot4: Seeing the number of cases grouped by target variable corresponding to Fatigue\n",
    "data.groupby('Final Category')['Depression '].value_counts().plot(kind='bar')\n",
    "#we see that patients classified as mild, are not depressed at all (only by a small proportion)\n",
    "#while the opposite is true for moderate and severe classified patients"
   ]
  },
  {
   "cell_type": "code",
   "execution_count": 181,
   "metadata": {},
   "outputs": [],
   "source": [
    "#Plot5: Seeing the number of cases grouped by target variable corresponding to Fatigue\n",
    "#WE EXPECT TO SEE SIMILAR BEHAVIOR FOR WEAKNESS, UNCOMMENT TO VIEW THE RESULTS\n",
    "#data.groupby('Final Category')['Anxiety'].value_counts().plot(kind='bar')\n",
    "#we see that patients classified as mild, are not anxious at all (only by a small proportion)\n",
    "#while the opposite is true for moderate and severe classified patients"
   ]
  },
  {
   "cell_type": "code",
   "execution_count": 182,
   "metadata": {},
   "outputs": [
    {
     "data": {
      "text/plain": [
       "<AxesSubplot:xlabel='Final Category,Dry Skin'>"
      ]
     },
     "execution_count": 182,
     "metadata": {},
     "output_type": "execute_result"
    },
    {
     "data": {
      "image/png": "[encoded data removed]",
      "text/plain": [
       "<Figure size 432x288 with 1 Axes>"
      ]
     },
     "metadata": {
      "needs_background": "light"
     },
     "output_type": "display_data"
    }
   ],
   "source": [
    "#Plot6: Seeing the number of cases grouped by target variable corresponding to Fatigue\n",
    "data.groupby('Final Category')['Dry Skin'].value_counts().plot(kind='bar')\n",
    "#we see that patients classified as mild, mostly do not have dry skin while the same cannot be \n",
    "#said for moderate and severe classified patients with as much certainity"
   ]
  },
  {
   "cell_type": "code",
   "execution_count": 183,
   "metadata": {},
   "outputs": [
    {
     "data": {
      "text/plain": [
       "<AxesSubplot:xlabel='Final Category,Spasms'>"
      ]
     },
     "execution_count": 183,
     "metadata": {},
     "output_type": "execute_result"
    },
    {
     "data": {
      "image/png": "[encoded data removed]",
      "text/plain": [
       "<Figure size 432x288 with 1 Axes>"
      ]
     },
     "metadata": {
      "needs_background": "light"
     },
     "output_type": "display_data"
    }
   ],
   "source": [
    "#Plot7: Seeing the number of cases grouped by target variable corresponding to Fatigue\n",
    "data.groupby('Final Category')['Spasms'].value_counts().plot(kind='bar')\n",
    "#we see that patients classified as mild and moderate, mostly do not experience spasms while \n",
    "#the same cannot be said for severe classified patients with as much certainity"
   ]
  },
  {
   "cell_type": "code",
   "execution_count": 184,
   "metadata": {},
   "outputs": [
    {
     "data": {
      "text/plain": [
       "<AxesSubplot:xlabel='Final Category,Tingling'>"
      ]
     },
     "execution_count": 184,
     "metadata": {},
     "output_type": "execute_result"
    },
    {
     "data": {
      "image/png": "[encoded data removed]",
      "text/plain": [
       "<Figure size 432x288 with 1 Axes>"
      ]
     },
     "metadata": {
      "needs_background": "light"
     },
     "output_type": "display_data"
    }
   ],
   "source": [
    "#Plot8: Seeing the number of cases grouped by target variable corresponding to Fatigue\n",
    "#WE EXPECT TO SEE SIMILAR BEHAVIOR FOR WEAKNESS, UNCOMMENT TO VIEW THE RESULTS\n",
    "#data.groupby('Final Category')['Tingling'].value_counts().plot(kind='bar')\n",
    "#we see that patients classified as mild and moderate, mostly do not experience tingling while \n",
    "#the same cannot be said for severe classified patients with as much certainity"
   ]
  },
  {
   "cell_type": "code",
   "execution_count": 188,
   "metadata": {},
   "outputs": [
    {
     "data": {
      "text/plain": [
       "<AxesSubplot:xlabel='Final Category,Headaches'>"
      ]
     },
     "execution_count": 188,
     "metadata": {},
     "output_type": "execute_result"
    },
    {
     "data": {
      "image/png": "[encoded data removed]",
      "text/plain": [
       "<Figure size 432x288 with 1 Axes>"
      ]
     },
     "metadata": {
      "needs_background": "light"
     },
     "output_type": "display_data"
    }
   ],
   "source": [
    "#Plot9: Seeing the number of cases grouped by target variable corresponding to Fatigue\n",
    "data.groupby('Final Category')['Headaches'].value_counts().plot(kind='bar')\n",
    "#we see that patients classified as mild, mostly do not have headaches while the same cannot be \n",
    "#said for moderate and severe classified patients with as much certainity"
   ]
  },
  {
   "cell_type": "code",
   "execution_count": 186,
   "metadata": {},
   "outputs": [],
   "source": [
    "#Plot10: Seeing the number of cases grouped by target variable corresponding to Fatigue\n",
    "#WE EXPECT TO SEE SIMILAR BEHAVIOR FOR WEAKNESS, UNCOMMENT TO VIEW THE RESULTS\n",
    "#data.groupby('Final Category')['Cramps'].value_counts().plot(kind='bar')\n",
    "#we see that patients classified as mild and moderate, mostly do not experience cramps while \n",
    "#the same cannot be said for severe classified patients with as much certainity"
   ]
  },
  {
   "cell_type": "code",
   "execution_count": 189,
   "metadata": {},
   "outputs": [],
   "source": [
    "#feature space\n",
    "X = data.iloc[:,2:]\n",
    "y = data['Final Category']\n",
    "X_train, X_test, y_train, y_test = train_test_split(X, y, test_size=0.33, random_state=1234)"
   ]
  },
  {
   "cell_type": "code",
   "execution_count": 190,
   "metadata": {},
   "outputs": [
    {
     "name": "stdout",
     "output_type": "stream",
     "text": [
      "Confusion Matrix:\n",
      " [[26  6  1]\n",
      " [ 5 26  2]\n",
      " [ 0  7 26]]\n",
      "Train Accuracy:  97.51243781094527\n",
      "Test Accuracy:  78.78787878787878\n"
     ]
    }
   ],
   "source": [
    "#Model1: Decision Tree Classifier (using general default parameters)\n",
    "#this is the default model that we build so that we can evaluate the condition for overfitting\n",
    "clf = DecisionTreeClassifier(random_state=1234)\n",
    "model = clf.fit(X_train, y_train)\n",
    "y_pred = clf.predict(X_test)\n",
    "y_pred_train = clf.predict(X_train)\n",
    "print(\"Confusion Matrix:\\n\",confusion_matrix(y_test, y_pred))\n",
    "print(\"Train Accuracy: \",accuracy_score(y_train,y_pred_train)*100)\n",
    "print(\"Test Accuracy: \",accuracy_score(y_test,y_pred)*100)\n",
    "#Indeed, the model is overfitting as we see that the train accuracy is very high in comparison\n",
    "#to the test accuracy. We are and will be primarily looking at accuracy of these models because\n",
    "#our dataset is balanced ie., we have 100 observations for each level of the target variable"
   ]
  },
  {
   "cell_type": "code",
   "execution_count": 191,
   "metadata": {},
   "outputs": [
    {
     "name": "stdout",
     "output_type": "stream",
     "text": [
      "Best parameters {'max_depth': 5}\n"
     ]
    }
   ],
   "source": [
    "#Model 2: Decision Tree Classifier (finding the parameters for overfitting)\n",
    "decision_tree = DecisionTreeClassifier(random_state=1234)\n",
    "param_dict = {\n",
    "    \"max_depth\": range(1,10)\n",
    "}\n",
    "grid = GridSearchCV(decision_tree, param_grid = param_dict,cv=10)\n",
    "grid.fit(X_train,y_train)\n",
    "print(\"Best parameters\",grid.best_params_)\n",
    "#We find that the max depth is 5, so this might be the overfitting parameter"
   ]
  },
  {
   "cell_type": "code",
   "execution_count": 192,
   "metadata": {},
   "outputs": [
    {
     "name": "stdout",
     "output_type": "stream",
     "text": [
      "Confusion Matrix:\n",
      " [[25  7  1]\n",
      " [ 0 27  6]\n",
      " [ 0  3 30]]\n",
      "Train Accuracy:  87.06467661691542\n",
      "Test Accuracy:  82.82828282828282\n"
     ]
    }
   ],
   "source": [
    "#Model 3: Decision Tree Classifier (running the average fit model)\n",
    "#For the average fit model, we reduce the max_depth parameter from 5 to 3 to see its effect\n",
    "#on training and test accuracies\n",
    "clf = DecisionTreeClassifier(random_state=1234, max_depth=3)\n",
    "model = clf.fit(X_train, y_train)\n",
    "y_pred = clf.predict(X_test)\n",
    "y_pred_train = clf.predict(X_train)\n",
    "print(\"Confusion Matrix:\\n\",confusion_matrix(y_test, y_pred))\n",
    "print(\"Train Accuracy: \",accuracy_score(y_train,y_pred_train)*100)\n",
    "print(\"Test Accuracy: \",accuracy_score(y_test,y_pred)*100)\n",
    "#Both the training and test accuracies are fairly in the same range, hence we can say that \n",
    "#we have escaped the overfitting condition"
   ]
  },
  {
   "cell_type": "code",
   "execution_count": 193,
   "metadata": {},
   "outputs": [
    {
     "name": "stdout",
     "output_type": "stream",
     "text": [
      "Accuracy: 78.78787878787878\n"
     ]
    }
   ],
   "source": [
    "#Model 4: Random Forest Classifier (comparing this model with DT model)\n",
    "#this is because we check if our decision tree model built is good enough by comparing the \n",
    "#accuracy of random forest model with the decision tree model\n",
    "model = RandomForestClassifier(random_state=1234)\n",
    "model = model.fit(X_train, y_train)\n",
    "y_pred = model.predict(X_test)\n",
    "print(\"Accuracy:\",accuracy_score(y_test,y_pred)*100)\n",
    "#well, yes the dt model is fair enough given that the accuracies lie in the same range"
   ]
  },
  {
   "cell_type": "code",
   "execution_count": 194,
   "metadata": {},
   "outputs": [
    {
     "name": "stdout",
     "output_type": "stream",
     "text": [
      "|--- feature_9 <= 2.50\n",
      "|   |--- feature_2 <= 0.50\n",
      "|   |   |--- feature_8 <= 0.50\n",
      "|   |   |   |--- class: Mild\n",
      "|   |   |--- feature_8 >  0.50\n",
      "|   |   |   |--- class: Severe\n",
      "|   |--- feature_2 >  0.50\n",
      "|   |   |--- feature_5 <= 0.50\n",
      "|   |   |   |--- class: Moderate\n",
      "|   |   |--- feature_5 >  0.50\n",
      "|   |   |   |--- class: Severe\n",
      "|--- feature_9 >  2.50\n",
      "|   |--- feature_9 <= 3.50\n",
      "|   |   |--- feature_8 <= 0.50\n",
      "|   |   |   |--- class: Moderate\n",
      "|   |   |--- feature_8 >  0.50\n",
      "|   |   |   |--- class: Severe\n",
      "|   |--- feature_9 >  3.50\n",
      "|   |   |--- feature_5 <= 0.50\n",
      "|   |   |   |--- class: Severe\n",
      "|   |   |--- feature_5 >  0.50\n",
      "|   |   |   |--- class: Severe\n",
      "\n"
     ]
    }
   ],
   "source": [
    "#Let's take a look at the rules now from our decision tree classifier\n",
    "text_representation = tree.export_text(clf)\n",
    "print(text_representation)"
   ]
  },
  {
   "cell_type": "code",
   "execution_count": null,
   "metadata": {},
   "outputs": [],
   "source": [
    "#Rules\n",
    "#1. Number of symptoms <= 2, no depression and no cramps --> Mild \n",
    "#2. Number of symptoms <= 2, no depression and cramps --> Severe\n",
    "#3. Number of symptoms <= 2, has depression and no spasms --> Moderate\n",
    "#4. Number of symptoms <= 2, has depression and spasms --> Severe\n",
    "#5. Number of symptoms between 2 and 3, and no cramps --> Moderate\n",
    "#6. Number of symptoms between 2 and 3, and no cramps --> Severe\n",
    "#7. Number of symptoms more than 3, and no spasms --> Severe\n",
    "#8. Number of symptoms more than 3, and has spasms --> Severe"
   ]
  },
  {
   "cell_type": "code",
   "execution_count": null,
   "metadata": {},
   "outputs": [],
   "source": [
    "#Simplifying these rules further:\n",
    "#For Mild, \n",
    "    #Rule: At most 2 symptoms and no depression or cramps\n",
    "#For Moderate\n",
    "    #Rule1: At most 2 symptoms, has depression but no spasms \n",
    "    #Rule2: Number of symptoms between 2 and 3, but no cramps \n",
    "#For Severe\n",
    "    #Rule1: At most 2 symptoms, has cramps but not depression\n",
    "    #Rule2: At most 2 symptoms, has cramps and depression\n",
    "    #Rule3: Number of symptoms between 2 and 3 but not cramps\n",
    "    #Rule4: Number of symptoms more than 3 and may or may not have spasms"
   ]
  }
 ],
 "metadata": {
  "kernelspec": {
   "display_name": "Python 3",
   "language": "python",
   "name": "python3"
  },
  "language_info": {
   "codemirror_mode": {
    "name": "ipython",
    "version": 3
   },
   "file_extension": ".py",
   "mimetype": "text/x-python",
   "name": "python",
   "nbconvert_exporter": "python",
   "pygments_lexer": "ipython3",
   "version": "3.8.5"
  }
 },
 "nbformat": 4,
 "nbformat_minor": 4
}
